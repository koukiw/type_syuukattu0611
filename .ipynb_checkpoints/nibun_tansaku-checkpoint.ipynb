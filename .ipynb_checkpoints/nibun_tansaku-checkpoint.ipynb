{
 "cells": [
  {
   "cell_type": "markdown",
   "id": "cbbab272-9dc3-46d1-b58d-905866377e1c",
   "metadata": {},
   "source": [
    "完成"
   ]
  },
  {
   "cell_type": "code",
   "execution_count": 1,
   "id": "27c9a50b-60e9-4488-a34b-f76cec196b81",
   "metadata": {},
   "outputs": [
    {
     "name": "stdin",
     "output_type": "stream",
     "text": [
      "Once deleted, variables cannot be recovered. Proceed (y/[n])?  y\n"
     ]
    }
   ],
   "source": [
    "%reset"
   ]
  },
  {
   "cell_type": "code",
   "execution_count": 2,
   "id": "d028f8e1-3410-4f99-b0e6-24cf8a333640",
   "metadata": {},
   "outputs": [
    {
     "name": "stdout",
     "output_type": "stream",
     "text": [
      "5\n"
     ]
    }
   ],
   "source": [
    "def main():\n",
    "    # 昇順にソートされた配列\n",
    "    sorted_array = [1, 2, 3, 5, 12, 7890, 12345]\n",
    "    # 探索対象の番号\n",
    "    target_number = 7890\n",
    "    # 探索実行\n",
    "    target_index = serch_index(sorted_array, target_number)\n",
    "    # 結果出力\n",
    "    print(target_index)\n",
    "\n",
    "def serch_index(sorted_array, target_number):\n",
    "\n",
    "    # ここから記述\n",
    "    \n",
    "    low = 0                        #探索リストの一番小さい値のindexをlowとする。\n",
    "    high = len(sorted_array) - 1   #探索リストの一番大きい値のindexをhighとする。\n",
    "    \n",
    "    while low <= high:             # 1つの要素に絞り込まれるまでの間繰り返す\n",
    "        mid = (low + high) // 2    #　　配列の中間の値をmidとする。配列の長さが偶数の時は切り捨て除算をして中間の一個前のindexを取得させる。\n",
    "        guess = sorted_array[mid]          # 真ん中の要素をguessとする。\n",
    "        if guess == target_number:          # 探索対象の数値を検出\n",
    "            return mid\n",
    "        if guess > target_number:           # 真ん中の要素 > 探索対象の数値の場合\n",
    "            high = mid - 1\n",
    "        else:                      # 真ん中の要素 < 探索対象の数値の場合\n",
    "            low = mid + 1     \n",
    "\n",
    "    # ここまで記述\n",
    "\n",
    "    # 探索対象が存在しない場合、-1を返却\n",
    "    return -1\n",
    "\n",
    "if __name__ == '__main__':\n",
    "    main()"
   ]
  },
  {
   "cell_type": "markdown",
   "id": "e7c0f730-7fe6-4864-b2f2-55e37b1ed1b2",
   "metadata": {},
   "source": [
    "テスト"
   ]
  },
  {
   "cell_type": "code",
   "execution_count": 60,
   "id": "b607b186-e839-4c12-9ae7-e76c564582e5",
   "metadata": {},
   "outputs": [
    {
     "name": "stdout",
     "output_type": "stream",
     "text": [
      "3\n"
     ]
    }
   ],
   "source": [
    "def serch_index(sorted_array, target_number):\n",
    "\n",
    "    # ここから記述\n",
    "    \n",
    "    low = 0                        #探索リストの一番小さい値のindexをlowとする。\n",
    "    high = len(sorted_array) - 1   #探索リストの一番大きい値のindexをhighとする。\n",
    "    \n",
    "    while low <= high:             # 1つの要素に絞り込まれるまでの間繰り返す\n",
    "        mid = (low + high) // 2    #　　配列の中間の値をmidとする。配列の長さが偶数の時は切り捨て除算をして中間の一個前のindexを取得させる。\n",
    "        guess = sorted_array[mid]          # 真ん中の要素をguessとする。\n",
    "        if guess == target_number:          # 探索対象の数値を検出\n",
    "            return mid\n",
    "        if guess > target_number:           # 真ん中の要素 > 探索対象の数値の場合\n",
    "            high = mid - 1\n",
    "        else:                      # 真ん中の要素 < 探索対象の数値の場合\n",
    "            low = mid + 1     \n",
    "\n",
    "    # ここまで記述\n",
    "\n",
    "    # 探索対象が存在しない場合、-1を返却\n",
    "    return -1\n",
    "\n",
    "if __name__ == '__main__':\n",
    "    main()"
   ]
  },
  {
   "cell_type": "code",
   "execution_count": 61,
   "id": "d7cfa49d-7b41-49a9-9e89-6749668bc7ab",
   "metadata": {},
   "outputs": [
    {
     "name": "stdout",
     "output_type": "stream",
     "text": [
      "3\n"
     ]
    }
   ],
   "source": [
    "def main():\n",
    "    # 昇順にソートされた配列\n",
    "    sorted_array = [1, 2, 3, 5, 12, 7890, 12345]\n",
    "    # 探索対象の番号\n",
    "    target_number = 5\n",
    "    # 探索実行\n",
    "    target_index = serch_index(sorted_array, target_number)\n",
    "    # 結果出力\n",
    "    print(target_index)\n",
    "if __name__ == '__main__':\n",
    "    main()"
   ]
  },
  {
   "cell_type": "code",
   "execution_count": null,
   "id": "938db818-50e2-416b-8368-7e82f4d21199",
   "metadata": {},
   "outputs": [],
   "source": [
    "def main():\n",
    "    # 昇順にソートされた配列\n",
    "    sorted_array = [1, 2, 3, 5, 12, 7890, 12345]\n",
    "    # 探索対象の番号\n",
    "    target_number = 7890\n",
    "    # 探索実行\n",
    "    target_index = serch_index(sorted_array, target_number)\n",
    "    # 結果出力\n",
    "    print(target_index)\n",
    "\n",
    "def serch_index(sorted_array, target_number):\n",
    "\n",
    "    # ここから記述\n",
    "\n",
    "\n",
    "    # ここまで記述\n",
    "\n",
    "    # 探索対象が存在しない場合、-1を返却\n",
    "    return -1\n",
    "\n",
    "if __name__ == '__main__':\n",
    "    main()"
   ]
  },
  {
   "cell_type": "code",
   "execution_count": 10,
   "id": "36c5570f-07f0-45fa-9567-3cf2dc298f58",
   "metadata": {},
   "outputs": [],
   "source": [
    "aa = [1,2,3,4,5,6]"
   ]
  },
  {
   "cell_type": "code",
   "execution_count": 34,
   "id": "11fb6ed0-b8ab-4eb1-9b06-3c737f7594db",
   "metadata": {},
   "outputs": [
    {
     "data": {
      "text/plain": [
       "6"
      ]
     },
     "execution_count": 34,
     "metadata": {},
     "output_type": "execute_result"
    }
   ],
   "source": [
    "len(aa)"
   ]
  },
  {
   "cell_type": "code",
   "execution_count": 36,
   "id": "e0fe890c-387b-4143-9471-86774e72f3f0",
   "metadata": {},
   "outputs": [
    {
     "data": {
      "text/plain": [
       "2"
      ]
     },
     "execution_count": 36,
     "metadata": {},
     "output_type": "execute_result"
    }
   ],
   "source": [
    "s = (len(aa)-1)//2\n",
    "s"
   ]
  },
  {
   "cell_type": "code",
   "execution_count": 18,
   "id": "f6aed1db-ce74-4ae8-ab4f-8996e575d5c8",
   "metadata": {},
   "outputs": [
    {
     "ename": "TypeError",
     "evalue": "list indices must be integers or slices, not float",
     "output_type": "error",
     "traceback": [
      "\u001b[0;31m---------------------------------------------------------------------------\u001b[0m",
      "\u001b[0;31mTypeError\u001b[0m                                 Traceback (most recent call last)",
      "\u001b[0;32m/var/folders/m3/07wc23_96wz9gkkdjrz3n_dw0000gn/T/ipykernel_50519/4011896980.py\u001b[0m in \u001b[0;36m<module>\u001b[0;34m\u001b[0m\n\u001b[0;32m----> 1\u001b[0;31m \u001b[0maa\u001b[0m\u001b[0;34m[\u001b[0m\u001b[0ms\u001b[0m\u001b[0;34m]\u001b[0m\u001b[0;34m\u001b[0m\u001b[0;34m\u001b[0m\u001b[0m\n\u001b[0m",
      "\u001b[0;31mTypeError\u001b[0m: list indices must be integers or slices, not float"
     ]
    }
   ],
   "source": [
    "aa[s]"
   ]
  },
  {
   "cell_type": "code",
   "execution_count": 19,
   "id": "310f54a0-4048-4fdf-a5dd-0a6625e4520a",
   "metadata": {},
   "outputs": [],
   "source": [
    "list = [1,2,3,4]"
   ]
  },
  {
   "cell_type": "code",
   "execution_count": 21,
   "id": "03893a81-0eea-4cd9-9472-b57bc1d11776",
   "metadata": {},
   "outputs": [
    {
     "data": {
      "text/plain": [
       "3"
      ]
     },
     "execution_count": 21,
     "metadata": {},
     "output_type": "execute_result"
    }
   ],
   "source": [
    "low = 0\n",
    "high = len(list) - 1\n",
    "high"
   ]
  },
  {
   "cell_type": "code",
   "execution_count": 27,
   "id": "b5831217-83b7-469c-86ba-282045ea1ed7",
   "metadata": {},
   "outputs": [
    {
     "data": {
      "text/plain": [
       "2"
      ]
     },
     "execution_count": 27,
     "metadata": {},
     "output_type": "execute_result"
    }
   ],
   "source": [
    "mid = (low + high) // 2    # (low + high) が偶数ではない場合、\n",
    "guess = list[int(mid)]       \n",
    "guess"
   ]
  },
  {
   "cell_type": "code",
   "execution_count": 28,
   "id": "fa92377a-d444-4900-8f19-65d1c6181f16",
   "metadata": {},
   "outputs": [
    {
     "data": {
      "text/plain": [
       "1.5"
      ]
     },
     "execution_count": 28,
     "metadata": {},
     "output_type": "execute_result"
    }
   ],
   "source": [
    "mid"
   ]
  },
  {
   "cell_type": "code",
   "execution_count": 29,
   "id": "ffba6246-640f-4d35-98d2-cc5449ea39e0",
   "metadata": {},
   "outputs": [
    {
     "data": {
      "text/plain": [
       "1"
      ]
     },
     "execution_count": 29,
     "metadata": {},
     "output_type": "execute_result"
    }
   ],
   "source": [
    "int(mid)"
   ]
  },
  {
   "cell_type": "code",
   "execution_count": null,
   "id": "3ef41b15-f26b-484c-a7f5-37c763be0ede",
   "metadata": {},
   "outputs": [],
   "source": [
    "if guess < item:\n",
    "low = mid + 1"
   ]
  },
  {
   "cell_type": "code",
   "execution_count": 37,
   "id": "2bf2018c-f970-41ae-aeda-b8ffc1943b24",
   "metadata": {},
   "outputs": [],
   "source": [
    "def binary_search(list, item):\n",
    "    low = 0                        # lowとhighを使ってリストの検索部分を追跡\n",
    "    high = len(list) - 1\n",
    "    while low <= high:             # 1つの要素に絞り込まれるまでの間は...\n",
    "        mid = (low + high) // 2\n",
    "        guess = list[mid]          # 真ん中の要素を調べる\n",
    "        if guess == item:          # アイテムを検出\n",
    "            return mid\n",
    "        if guess > item:           # 推測した数字が大きすぎた\n",
    "            high = mid - 1\n",
    "        else:                      # 推測した数字が小さすぎた\n",
    "            low = mid + 1\n",
    "    return -1                    # アイテムが存在しない"
   ]
  },
  {
   "cell_type": "code",
   "execution_count": 38,
   "id": "995f1f14-466d-49c2-a5c4-1a938fb61461",
   "metadata": {},
   "outputs": [],
   "source": [
    "my_list = [1, 3, 5, 7, 9]          # テストしてみる"
   ]
  },
  {
   "cell_type": "code",
   "execution_count": 42,
   "id": "26c21a05-704a-4ba5-b74d-b4fe9ea52362",
   "metadata": {},
   "outputs": [
    {
     "data": {
      "text/plain": [
       "-1"
      ]
     },
     "execution_count": 42,
     "metadata": {},
     "output_type": "execute_result"
    }
   ],
   "source": [
    "binary_search(my_list, 2)"
   ]
  },
  {
   "cell_type": "code",
   "execution_count": null,
   "id": "8975d599-4884-497a-b84e-a847d66366bd",
   "metadata": {},
   "outputs": [],
   "source": []
  }
 ],
 "metadata": {
  "kernelspec": {
   "display_name": "Python 3 (ipykernel)",
   "language": "python",
   "name": "python3"
  },
  "language_info": {
   "codemirror_mode": {
    "name": "ipython",
    "version": 3
   },
   "file_extension": ".py",
   "mimetype": "text/x-python",
   "name": "python",
   "nbconvert_exporter": "python",
   "pygments_lexer": "ipython3",
   "version": "3.9.7"
  }
 },
 "nbformat": 4,
 "nbformat_minor": 5
}
