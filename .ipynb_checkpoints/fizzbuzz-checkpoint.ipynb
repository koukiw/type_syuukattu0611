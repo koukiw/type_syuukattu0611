{
 "cells": [
  {
   "cell_type": "markdown",
   "id": "d1ce7ec0-1031-4e8e-bc50-222e959ea629",
   "metadata": {},
   "source": [
    "## Fizz Buzz  \n",
    "1から100までの数字を出力してください  \n",
    "3の倍数のときは数字の代わりにFizzと出力してください  \n",
    "5の倍数のときは数字の代わりにBuzzと出力してください  \n",
    "15の倍数のときは数字の代わりにFizzBuzzと出力してください  "
   ]
  },
  {
   "cell_type": "markdown",
   "id": "9ab287a2-a146-4f3a-815d-b64acca324c7",
   "metadata": {},
   "source": [
    "for num in range(1, 101):\n",
    "    string = ''\n",
    "\n",
    "    # ここから記述\n",
    "\n",
    "\n",
    "    # ここまで記述\n",
    "\n",
    "    print(string)"
   ]
  },
  {
   "cell_type": "code",
   "execution_count": 46,
   "id": "48b87634-99b0-438d-ade2-70c1bae34103",
   "metadata": {},
   "outputs": [
    {
     "name": "stdout",
     "output_type": "stream",
     "text": [
      "1\n",
      "2\n",
      "Fizz\n",
      "4\n",
      "Buzz\n",
      "Fizz\n",
      "7\n",
      "8\n",
      "Fizz\n",
      "Buzz\n",
      "11\n",
      "Fizz\n",
      "13\n",
      "14\n",
      "FizzBuzz\n",
      "16\n",
      "17\n",
      "Fizz\n",
      "19\n",
      "Buzz\n",
      "Fizz\n",
      "22\n",
      "23\n",
      "Fizz\n",
      "Buzz\n",
      "26\n",
      "Fizz\n",
      "28\n",
      "29\n",
      "FizzBuzz\n",
      "31\n",
      "32\n",
      "Fizz\n",
      "34\n",
      "Buzz\n",
      "Fizz\n",
      "37\n",
      "38\n",
      "Fizz\n",
      "Buzz\n",
      "41\n",
      "Fizz\n",
      "43\n",
      "44\n",
      "FizzBuzz\n",
      "46\n",
      "47\n",
      "Fizz\n",
      "49\n",
      "Buzz\n",
      "Fizz\n",
      "52\n",
      "53\n",
      "Fizz\n",
      "Buzz\n",
      "56\n",
      "Fizz\n",
      "58\n",
      "59\n",
      "FizzBuzz\n",
      "61\n",
      "62\n",
      "Fizz\n",
      "64\n",
      "Buzz\n",
      "Fizz\n",
      "67\n",
      "68\n",
      "Fizz\n",
      "Buzz\n",
      "71\n",
      "Fizz\n",
      "73\n",
      "74\n",
      "FizzBuzz\n",
      "76\n",
      "77\n",
      "Fizz\n",
      "79\n",
      "Buzz\n",
      "Fizz\n",
      "82\n",
      "83\n",
      "Fizz\n",
      "Buzz\n",
      "86\n",
      "Fizz\n",
      "88\n",
      "89\n",
      "FizzBuzz\n",
      "91\n",
      "92\n",
      "Fizz\n",
      "94\n",
      "Buzz\n",
      "Fizz\n",
      "97\n",
      "98\n",
      "Fizz\n",
      "Buzz\n"
     ]
    }
   ],
   "source": [
    "for num in range(1, 101):\n",
    "    string = ''\n",
    "    \n",
    "    # ここから記述\n",
    "    #3か5で割り切れるものの中で両方で割り切れる場合の「FizzBuzz」を先に処理\n",
    "    if num % 15 == 0: \n",
    "        string = 'FizzBuzz' \n",
    "        \n",
    "    elif num % 3 == 0: \n",
    "        string = 'Fizz'\n",
    "        \n",
    "    elif num % 5 == 0:\n",
    "        string = 'Buzz'\n",
    "        \n",
    "    else:\n",
    "        string = str(num) #numはint型だから他と合わせるためにstr型に変更する\n",
    "    # ここまで記述\n",
    "\n",
    "    print(string)"
   ]
  },
  {
   "cell_type": "code",
   "execution_count": 21,
   "id": "165efa7b-e4e0-4a60-ab02-d24000655cf2",
   "metadata": {},
   "outputs": [],
   "source": [
    "string = \"aa\""
   ]
  },
  {
   "cell_type": "code",
   "execution_count": 22,
   "id": "c553829d-b2a2-4864-9891-98156b00030a",
   "metadata": {},
   "outputs": [
    {
     "data": {
      "text/plain": [
       "'aa'"
      ]
     },
     "execution_count": 22,
     "metadata": {},
     "output_type": "execute_result"
    }
   ],
   "source": [
    "string"
   ]
  },
  {
   "cell_type": "code",
   "execution_count": 36,
   "id": "7438f221-01f2-44db-b656-bb2d9b20873f",
   "metadata": {},
   "outputs": [],
   "source": [
    "string = str(0)"
   ]
  },
  {
   "cell_type": "code",
   "execution_count": 37,
   "id": "9ced38de-3e6a-4db1-85e1-dfe39c272139",
   "metadata": {},
   "outputs": [
    {
     "name": "stdout",
     "output_type": "stream",
     "text": [
      "0\n"
     ]
    }
   ],
   "source": [
    "print(string)"
   ]
  },
  {
   "cell_type": "code",
   "execution_count": 38,
   "id": "c009dee1-bbf6-4f78-835b-66d8a1809210",
   "metadata": {},
   "outputs": [
    {
     "data": {
      "text/plain": [
       "str"
      ]
     },
     "execution_count": 38,
     "metadata": {},
     "output_type": "execute_result"
    }
   ],
   "source": [
    "type(string)"
   ]
  },
  {
   "cell_type": "code",
   "execution_count": null,
   "id": "2dd35604-3669-45fa-95d1-d0d68fe05617",
   "metadata": {},
   "outputs": [],
   "source": []
  }
 ],
 "metadata": {
  "kernelspec": {
   "display_name": "Python 3 (ipykernel)",
   "language": "python",
   "name": "python3"
  },
  "language_info": {
   "codemirror_mode": {
    "name": "ipython",
    "version": 3
   },
   "file_extension": ".py",
   "mimetype": "text/x-python",
   "name": "python",
   "nbconvert_exporter": "python",
   "pygments_lexer": "ipython3",
   "version": "3.9.7"
  }
 },
 "nbformat": 4,
 "nbformat_minor": 5
}
